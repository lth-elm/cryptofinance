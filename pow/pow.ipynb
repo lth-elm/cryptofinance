{
  "cells": [
    {
      "cell_type": "code",
      "execution_count": 63,
      "metadata": {
        "id": "sUkT3qA6nrg4"
      },
      "outputs": [],
      "source": [
        "import hashlib, time, sys\n",
        "from statistics import mean\n",
        "from multiprocessing import Process\n",
        "from random import randint"
      ]
    },
    {
      "cell_type": "code",
      "execution_count": 64,
      "metadata": {
        "id": "FCpSbcZloBF2"
      },
      "outputs": [],
      "source": [
        "loop = 3\n",
        "loop_timelimit = 150"
      ]
    },
    {
      "cell_type": "code",
      "execution_count": 65,
      "metadata": {
        "id": "O4ZqHmG_oDDL"
      },
      "outputs": [],
      "source": [
        "def pow(target):\n",
        "\n",
        "    time_result = []\n",
        "\n",
        "    for _ in range(loop):\n",
        "        challenge = '5JskLFx82fGh7eFP3c12XXX'\n",
        "        solution = ''\n",
        "        hash_solution = ''\n",
        "        start = time.time()\n",
        "        while hash_solution[:target] != '0'*target:\n",
        "            nonce = randint(0, sys.maxsize)\n",
        "            solution = challenge + str(nonce)\n",
        "            hash_solution = hashlib.sha256(solution.encode('utf-8')).hexdigest()\n",
        "        totaltime = time.time() - start\n",
        "\n",
        "        # print('time: ', totaltime)\n",
        "        time_result.append(totaltime)\n",
        "        # print('sha256: ', hash_solution)\n",
        "        # print('block: ', solution)\n",
        "        # print('nonce: ', nonce)\n",
        "\n",
        "    mean_time = mean(time_result)\n",
        "    # print('Total target mean time ' + str(mean_time))\n",
        "    \n",
        "    with open('time_values.csv', 'a') as f:\n",
        "        f.write(str(mean_time) + ',')"
      ]
    },
    {
      "cell_type": "code",
      "execution_count": 66,
      "metadata": {
        "id": "WMgLgvZfoGez"
      },
      "outputs": [],
      "source": [
        "f = open('pow_time_values.csv', 'w')\n",
        "f.close()"
      ]
    },
    {
      "cell_type": "code",
      "execution_count": 67,
      "metadata": {
        "id": "LHnXoLDCoSNM"
      },
      "outputs": [],
      "source": [
        "target = 1"
      ]
    },
    {
      "cell_type": "code",
      "execution_count": 68,
      "metadata": {
        "colab": {
          "base_uri": "https://localhost:8080/"
        },
        "id": "R6lp_AuSoTFg",
        "outputId": "4ae8f5a2-d974-46aa-8d3d-573042b37018"
      },
      "outputs": [
        {
          "name": "stdout",
          "output_type": "stream",
          "text": [
            "Time limit ! 150.10594058036804\n",
            "DONE.\n"
          ]
        }
      ],
      "source": [
        "while True:\n",
        "    p = Process(target=pow, name=\"PoW\", args=(target,))\n",
        "    tlimit = time.time()\n",
        "    p.start()\n",
        "    p.join(loop_timelimit)\n",
        "    if p.is_alive():\n",
        "        p.terminate()\n",
        "        p.join()\n",
        "        print('Time limit ! ' + str(time.time() - tlimit))\n",
        "        break\n",
        "    # print('Target ' + str(target) + ' over !')\n",
        "    target += 1\n",
        "\n",
        "print('DONE.')"
      ]
    },
    {
      "cell_type": "markdown",
      "metadata": {
        "id": "mKGlTQjxpfxW"
      },
      "source": [
        "# *Visualization :*"
      ]
    },
    {
      "cell_type": "code",
      "execution_count": 2,
      "metadata": {
        "id": "9rEiu7E6pkT5"
      },
      "outputs": [],
      "source": [
        "import csv\n",
        "from matplotlib import pyplot as plt"
      ]
    },
    {
      "cell_type": "code",
      "execution_count": 3,
      "metadata": {
        "id": "oEnJmrJhpquw"
      },
      "outputs": [],
      "source": [
        "with open('pow_time_values.csv', newline='') as f:\n",
        "    reader = csv.reader(f)\n",
        "    data_time = list(reader)[0]"
      ]
    },
    {
      "cell_type": "code",
      "execution_count": 4,
      "metadata": {
        "id": "AdtB3DYRpt03"
      },
      "outputs": [],
      "source": [
        "data_time.remove('')\n",
        "for i in range(len(data_time)):\n",
        "    data_time[i] = float(data_time[i])"
      ]
    },
    {
      "cell_type": "code",
      "execution_count": 5,
      "metadata": {
        "id": "YsCVOefVpvnh"
      },
      "outputs": [],
      "source": [
        "targets = list(range(1, len(data_time) + 1, 1))"
      ]
    },
    {
      "cell_type": "code",
      "execution_count": 6,
      "metadata": {
        "colab": {
          "base_uri": "https://localhost:8080/",
          "height": 282
        },
        "id": "XS-w0wnupzon",
        "outputId": "dd38e584-a2e3-4c0d-eb43-833ff5035242"
      },
      "outputs": [
        {
          "data": {
            "text/plain": [
              "Text(0, 0.5, 'Time (s)')"
            ]
          },
          "execution_count": 6,
          "metadata": {},
          "output_type": "execute_result"
        },
        {
          "data": {
            "image/png": "[encoded data removed]",
            "text/plain": [
              "<Figure size 432x288 with 1 Axes>"
            ]
          },
          "metadata": {
            "needs_background": "light"
          },
          "output_type": "display_data"
        }
      ],
      "source": [
        "plt.plot(targets, data_time, '-ok')\n",
        "plt.title('Time required to find the hash solution according to target')\n",
        "plt.xlabel('0 target')\n",
        "plt.ylabel('Time (s)')"
      ]
    }
  ],
  "metadata": {
    "colab": {
      "name": "pow.ipynb",
      "provenance": []
    },
    "kernelspec": {
      "display_name": "Python 3",
      "name": "python3"
    },
    "language_info": {
      "codemirror_mode": {
        "name": "ipython",
        "version": 3
      },
      "file_extension": ".py",
      "mimetype": "text/x-python",
      "name": "python",
      "nbconvert_exporter": "python",
      "pygments_lexer": "ipython3",
      "version": "3.7.9"
    }
  },
  "nbformat": 4,
  "nbformat_minor": 0
}
