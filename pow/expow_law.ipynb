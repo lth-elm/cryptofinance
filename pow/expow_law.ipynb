{
  "cells": [
    {
      "cell_type": "code",
      "execution_count": 78,
      "metadata": {},
      "outputs": [],
      "source": [
        "import hashlib, time, sys, csv\n",
        "import numpy as np\n",
        "from random import randint\n",
        "# from scipy.stats import expon\n",
        "from matplotlib import pyplot as plt"
      ]
    },
    {
      "cell_type": "markdown",
      "metadata": {},
      "source": [
        "# *Exponential distribution :*"
      ]
    },
    {
      "cell_type": "code",
      "execution_count": 50,
      "metadata": {},
      "outputs": [],
      "source": [
        "loop = 10000"
      ]
    },
    {
      "cell_type": "code",
      "execution_count": 51,
      "metadata": {},
      "outputs": [],
      "source": [
        "def pow(target):\n",
        "    # print('-------- TARGET : ' + str(target) + ' --------')\n",
        "\n",
        "    time_result = []\n",
        "\n",
        "    for _ in range(loop):\n",
        "        # print('Loop : ' + str(i+1) + '/' + str(loop))\n",
        "        challenge = '5JskLFx82fGh7eFP3c12XXX'\n",
        "        solution = ''\n",
        "        hash_solution = ''\n",
        "        # nonce = -1\n",
        "        start = time.time()\n",
        "        while hash_solution[:target] != '0'*target:\n",
        "            nonce = randint(0, sys.maxsize)\n",
        "            # nonce += 1\n",
        "            solution = challenge + str(nonce)\n",
        "            hash_solution = hashlib.sha256(solution.encode('utf-8')).hexdigest()\n",
        "        totaltime = time.time() - start\n",
        "\n",
        "        # print('time: ', totaltime)\n",
        "        time_result.append(totaltime)\n",
        "        # print('sha256: ', hash_solution)\n",
        "        # print('block: ', solution)\n",
        "        # print('nonce: ', nonce)\n",
        "\n",
        "    time_result.sort()\n",
        "\n",
        "    return time_result"
      ]
    },
    {
      "cell_type": "code",
      "execution_count": 52,
      "metadata": {},
      "outputs": [],
      "source": [
        "time_result = pow(3)"
      ]
    },
    {
      "cell_type": "code",
      "execution_count": 53,
      "metadata": {},
      "outputs": [],
      "source": [
        "x = [i for i in range(1, len(time_result)+1, 1)]"
      ]
    },
    {
      "cell_type": "code",
      "execution_count": 54,
      "metadata": {},
      "outputs": [
        {
          "data": {
            "text/plain": [
              "Text(0, 0.5, 'Time (s)')"
            ]
          },
          "execution_count": 54,
          "metadata": {},
          "output_type": "execute_result"
        },
        {
          "data": {
            "image/png": "[encoded data removed]",
            "text/plain": [
              "<Figure size 432x288 with 1 Axes>"
            ]
          },
          "metadata": {
            "needs_background": "light"
          },
          "output_type": "display_data"
        }
      ],
      "source": [
        "plt.plot(x, time_result, '-ok', color='darkblue', markersize=4)\n",
        "plt.title('Distribution of the time took to find the hash solution for all the executions')\n",
        "plt.xlabel('Executions')\n",
        "plt.ylabel('Time (s)')"
      ]
    },
    {
      "cell_type": "code",
      "execution_count": 55,
      "metadata": {},
      "outputs": [],
      "source": [
        "f = open('expow_distribution_values.csv', 'w')\n",
        "f.close()"
      ]
    },
    {
      "cell_type": "code",
      "execution_count": 56,
      "metadata": {},
      "outputs": [],
      "source": [
        "with open('expow_distribution_values.csv', 'w') as f: \n",
        "    write = csv.writer(f) \n",
        "    write.writerow(time_result)"
      ]
    },
    {
      "cell_type": "markdown",
      "metadata": {},
      "source": [
        "# *Exponential law :*"
      ]
    },
    {
      "cell_type": "markdown",
      "metadata": {},
      "source": [
        "## *Visualization*"
      ]
    },
    {
      "cell_type": "code",
      "execution_count": 104,
      "metadata": {},
      "outputs": [],
      "source": [
        "with open('expow_distribution_values.csv', newline='') as f:\n",
        "    reader = csv.reader(f)\n",
        "    time_result = list(reader)[0]"
      ]
    },
    {
      "cell_type": "code",
      "execution_count": 105,
      "metadata": {},
      "outputs": [],
      "source": [
        "for i in range(len(time_result)):\n",
        "    time_result[i] = float(time_result[i])"
      ]
    },
    {
      "cell_type": "code",
      "execution_count": 106,
      "metadata": {},
      "outputs": [
        {
          "data": {
            "text/plain": [
              "0.22750451974868774"
            ]
          },
          "execution_count": 106,
          "metadata": {},
          "output_type": "execute_result"
        }
      ],
      "source": [
        "base = time_result[0]\n",
        "end = time_result[-1]\n",
        "interval = end - base\n",
        "steps = interval/(len(time_result)/2)\n",
        "\n",
        "rangeprob = [i for i in np.arange(base, end, steps)]\n",
        "rangeprob.pop()"
      ]
    },
    {
      "cell_type": "code",
      "execution_count": 107,
      "metadata": {},
      "outputs": [],
      "source": [
        "probr = []\n",
        "\n",
        "for i in rangeprob:\n",
        "    result = [x for x in time_result if x >= i]\n",
        "    probr.append(len(result)/loop)"
      ]
    },
    {
      "cell_type": "code",
      "execution_count": 108,
      "metadata": {},
      "outputs": [
        {
          "data": {
            "text/plain": [
              "Text(0, 0.5, 'Probability')"
            ]
          },
          "execution_count": 108,
          "metadata": {},
          "output_type": "execute_result"
        },
        {
          "data": {
            "image/png": "[encoded data removed]",
            "text/plain": [
              "<Figure size 432x288 with 1 Axes>"
            ]
          },
          "metadata": {
            "needs_background": "light"
          },
          "output_type": "display_data"
        }
      ],
      "source": [
        "plt.plot(rangeprob, probr, '-ok', color='darkred', markersize=4)\n",
        "plt.title('Probability to find the target after x seconds')\n",
        "plt.xlabel('Time (s)')\n",
        "plt.ylabel('Probability')"
      ]
    },
    {
      "cell_type": "markdown",
      "metadata": {},
      "source": [
        "## *Computation*"
      ]
    },
    {
      "cell_type": "code",
      "execution_count": 122,
      "metadata": {},
      "outputs": [
        {
          "data": {
            "text/plain": [
              "[<matplotlib.lines.Line2D at 0x1cd79523148>]"
            ]
          },
          "execution_count": 122,
          "metadata": {},
          "output_type": "execute_result"
        },
        {
          "data": {
            "image/png": "[encoded data removed]",
            "text/plain": [
              "<Figure size 432x288 with 1 Axes>"
            ]
          },
          "metadata": {
            "needs_background": "light"
          },
          "output_type": "display_data"
        }
      ],
      "source": [
        "# param=expon.fit(probr)\n",
        "# pdf_fitted=expon.pdf(rangeprob, scale=param[-1])\n",
        "# plt.plot(rangeprob, pdf_fitted, 'r')"
      ]
    },
    {
      "cell_type": "code",
      "execution_count": 125,
      "metadata": {},
      "outputs": [],
      "source": [
        "# ... ??"
      ]
    }
  ],
  "metadata": {
    "colab": {
      "name": "pow.ipynb",
      "provenance": []
    },
    "kernelspec": {
      "display_name": "Python 3",
      "name": "python3"
    },
    "language_info": {
      "codemirror_mode": {
        "name": "ipython",
        "version": 3
      },
      "file_extension": ".py",
      "mimetype": "text/x-python",
      "name": "python",
      "nbconvert_exporter": "python",
      "pygments_lexer": "ipython3",
      "version": "3.7.9"
    }
  },
  "nbformat": 4,
  "nbformat_minor": 0
}
